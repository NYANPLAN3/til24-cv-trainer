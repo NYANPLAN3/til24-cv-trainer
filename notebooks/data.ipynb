{
 "cells": [
  {
   "cell_type": "code",
   "execution_count": null,
   "metadata": {},
   "outputs": [],
   "source": [
    "%matplotlib widget\n",
    "import fiftyone as fo\n",
    "import fiftyone.utils.random as four\n",
    "from fiftyone import ViewField as F\n",
    "\n",
    "from tilcvtrainer import JSONLImporter"
   ]
  },
  {
   "cell_type": "code",
   "execution_count": null,
   "metadata": {},
   "outputs": [],
   "source": [
    "dataset_dir = \"../data/raw\""
   ]
  },
  {
   "cell_type": "code",
   "execution_count": null,
   "metadata": {},
   "outputs": [],
   "source": [
    "importer = JSONLImporter(dataset_dir)\n",
    "if fo.dataset_exists(\"til24cvraw\"):\n",
    "    dataset = fo.load_dataset(\"til24cvraw\")\n",
    "else:\n",
    "    dataset = fo.Dataset.from_importer(\n",
    "        importer, name=\"til24cvraw\", persistent=True, overwrite=True\n",
    "    )"
   ]
  },
  {
   "cell_type": "code",
   "execution_count": null,
   "metadata": {},
   "outputs": [],
   "source": [
    "# Create splits\n",
    "four.random_split(dataset, {\"train\": 0.8, \"val\": 0.2}, seed=42)"
   ]
  },
  {
   "cell_type": "markdown",
   "metadata": {},
   "source": [
    "### Export to Ultralytics"
   ]
  },
  {
   "cell_type": "code",
   "execution_count": null,
   "metadata": {},
   "outputs": [],
   "source": [
    "# Relabel all detections to UFO (lol)\n",
    "view: fo.DatasetView = dataset.set_field(\n",
    "    \"ground_truth.detections\", F(\"detections\").map(F().set_field(\"label\", \"UFO\"))\n",
    ")"
   ]
  },
  {
   "cell_type": "code",
   "execution_count": null,
   "metadata": {},
   "outputs": [],
   "source": [
    "for split in (\"train\", \"val\"):\n",
    "    v: fo.DatasetView = view.match_tags(split)\n",
    "    v.export(\n",
    "        export_dir=\"data/til24ufo\",\n",
    "        dataset_type=fo.types.YOLOv5Dataset,\n",
    "        label_field=\"ground_truth\",\n",
    "        split=split,\n",
    "        classes=[\"UFO\"],\n",
    "        export_media=True,\n",
    "        include_path=False,\n",
    "    )"
   ]
  },
  {
   "cell_type": "markdown",
   "metadata": {},
   "source": [
    "### To Caption Dataset"
   ]
  },
  {
   "cell_type": "code",
   "execution_count": null,
   "metadata": {},
   "outputs": [],
   "source": [
    "from fiftyone.core.patches import PatchesView"
   ]
  },
  {
   "cell_type": "code",
   "execution_count": null,
   "metadata": {},
   "outputs": [],
   "source": [
    "pats: PatchesView = dataset.to_patches(\"ground_truth\")\n",
    "pats.untag_samples([\"train\", \"val\"])\n",
    "four.random_split(pats, {\"train\": 0.95, \"val\": 0.05}, seed=42)"
   ]
  },
  {
   "cell_type": "code",
   "execution_count": null,
   "metadata": {},
   "outputs": [],
   "source": [
    "export_dirs = dict(\n",
    "    train=\"../data/til24id/train\",\n",
    "    val=\"../data/til24id/val\",\n",
    ")"
   ]
  },
  {
   "cell_type": "code",
   "execution_count": null,
   "metadata": {},
   "outputs": [],
   "source": [
    "for split in (\"train\", \"val\"):\n",
    "    v: fo.DatasetView = pats.match_tags(split)\n",
    "    v.export(\n",
    "        export_dir=export_dirs[split],\n",
    "        export_media=True,\n",
    "        abs_paths=False,\n",
    "        label_field=\"ground_truth\",\n",
    "        dataset_type=fo.types.FiftyOneImageClassificationDataset,\n",
    "    )"
   ]
  },
  {
   "cell_type": "code",
   "execution_count": null,
   "metadata": {},
   "outputs": [],
   "source": [
    "for split in (\"train\", \"val\"):\n",
    "    tmp_ds = fo.Dataset.from_dir(\n",
    "        dataset_dir=export_dirs[split],\n",
    "        dataset_type=fo.types.FiftyOneImageClassificationDataset,\n",
    "    )\n",
    "    tmp_ds.export(\n",
    "        export_dir=export_dirs[split],\n",
    "        export_media=False,\n",
    "        abs_paths=True,\n",
    "        dataset_type=fo.types.CSVDataset,\n",
    "        fields={\"ground_truth.label\": \"title\", \"filepath\": \"filepath\"},\n",
    "    )"
   ]
  },
  {
   "cell_type": "code",
   "execution_count": null,
   "metadata": {},
   "outputs": [],
   "source": [
    "fo.launch_app(pats)"
   ]
  },
  {
   "cell_type": "code",
   "execution_count": null,
   "metadata": {},
   "outputs": [],
   "source": [
    "import pandas as pd"
   ]
  },
  {
   "cell_type": "code",
   "execution_count": null,
   "metadata": {},
   "outputs": [],
   "source": [
    "train_df = pd.read_csv(\"/workspaces/til24-cv-trainer/data/til24id/train/labels.csv\")\n",
    "val_df = pd.read_csv(\"/workspaces/til24-cv-trainer/data/til24id/val/labels.csv\")"
   ]
  },
  {
   "cell_type": "code",
   "execution_count": null,
   "metadata": {},
   "outputs": [],
   "source": [
    "train_df.to_csv(\n",
    "    \"/workspaces/til24-cv-trainer/data/til24id/train/labels.csv\", index=False, sep=\"\\t\"\n",
    ")\n",
    "val_df.to_csv(\n",
    "    \"/workspaces/til24-cv-trainer/data/til24id/val/labels.csv\", index=False, sep=\"\\t\"\n",
    ")"
   ]
  },
  {
   "cell_type": "code",
   "execution_count": null,
   "metadata": {},
   "outputs": [],
   "source": []
  }
 ],
 "metadata": {
  "kernelspec": {
   "display_name": ".venv",
   "language": "python",
   "name": "python3"
  },
  "language_info": {
   "codemirror_mode": {
    "name": "ipython",
    "version": 3
   },
   "file_extension": ".py",
   "mimetype": "text/x-python",
   "name": "python",
   "nbconvert_exporter": "python",
   "pygments_lexer": "ipython3",
   "version": "3.11.9"
  }
 },
 "nbformat": 4,
 "nbformat_minor": 2
}
